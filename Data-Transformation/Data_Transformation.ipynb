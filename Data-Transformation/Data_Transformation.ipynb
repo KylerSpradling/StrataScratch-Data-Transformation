{
 "cells": [
  {
   "cell_type": "code",
   "execution_count": 1,
   "metadata": {},
   "outputs": [],
   "source": [
    "import pandas as pd\n",
    "import json"
   ]
  },
  {
   "cell_type": "code",
   "execution_count": 2,
   "metadata": {},
   "outputs": [],
   "source": [
    "# Read in the json file\n",
    "df = pd.read_json(\"C:/Users/kyler/OneDrive/Python Projects/StrataScratch/Data-Transformation/datasets/case.json\")"
   ]
  },
  {
   "cell_type": "code",
   "execution_count": 3,
   "metadata": {},
   "outputs": [
    {
     "data": {
      "text/html": [
       "<div>\n",
       "<style scoped>\n",
       "    .dataframe tbody tr th:only-of-type {\n",
       "        vertical-align: middle;\n",
       "    }\n",
       "\n",
       "    .dataframe tbody tr th {\n",
       "        vertical-align: top;\n",
       "    }\n",
       "\n",
       "    .dataframe thead th {\n",
       "        text-align: right;\n",
       "    }\n",
       "</style>\n",
       "<table border=\"1\" class=\"dataframe\">\n",
       "  <thead>\n",
       "    <tr style=\"text-align: right;\">\n",
       "      <th></th>\n",
       "      <th>EnqueuedTimeUtc</th>\n",
       "      <th>EventName</th>\n",
       "      <th>Payload</th>\n",
       "    </tr>\n",
       "  </thead>\n",
       "  <tbody>\n",
       "    <tr>\n",
       "      <th>9</th>\n",
       "      <td>2021-09-05 09:18:04 UTC</td>\n",
       "      <td>DynamicPrice_Result</td>\n",
       "      <td>{\"provider\":\"ApplyDynamicPriceRange\",\"offerId\"...</td>\n",
       "    </tr>\n",
       "    <tr>\n",
       "      <th>33</th>\n",
       "      <td>2021-09-05 09:02:41 UTC</td>\n",
       "      <td>DynamicPrice_Result</td>\n",
       "      <td>{\"provider\":\"ApplyDynamicPriceRange\",\"offerId\"...</td>\n",
       "    </tr>\n",
       "    <tr>\n",
       "      <th>0</th>\n",
       "      <td>2021-09-05 08:04:08 UTC</td>\n",
       "      <td>DynamicPrice_Result</td>\n",
       "      <td>{\"provider\":\"ApplyDynamicPriceRange\",\"offerId\"...</td>\n",
       "    </tr>\n",
       "    <tr>\n",
       "      <th>17</th>\n",
       "      <td>2021-08-25 09:02:29 UTC</td>\n",
       "      <td>CurateOffer_Result</td>\n",
       "      <td>[{\"curationProvider\":\"ByPrice\",\"offerId\":\"0a06...</td>\n",
       "    </tr>\n",
       "    <tr>\n",
       "      <th>16</th>\n",
       "      <td>2021-09-05 08:03:00 UTC</td>\n",
       "      <td>DynamicPrice_Result</td>\n",
       "      <td>{\"provider\":\"ApplyDynamicPriceRange\",\"offerId\"...</td>\n",
       "    </tr>\n",
       "    <tr>\n",
       "      <th>7</th>\n",
       "      <td>2021-09-05 04:03:08 UTC</td>\n",
       "      <td>DynamicPrice_Result</td>\n",
       "      <td>{\"provider\":\"ApplyDynamicPriceRange\",\"offerId\"...</td>\n",
       "    </tr>\n",
       "    <tr>\n",
       "      <th>5</th>\n",
       "      <td>2021-08-18 11:44:00 UTC</td>\n",
       "      <td>DynamicPrice_Result</td>\n",
       "      <td>{\"provider\":\"ApplyDynamicPricePerOption\",\"offe...</td>\n",
       "    </tr>\n",
       "    <tr>\n",
       "      <th>27</th>\n",
       "      <td>2021-09-05 09:02:17 UTC</td>\n",
       "      <td>DynamicPrice_Result</td>\n",
       "      <td>{\"provider\":\"ApplyDynamicPriceRange\",\"offerId\"...</td>\n",
       "    </tr>\n",
       "    <tr>\n",
       "      <th>36</th>\n",
       "      <td>2021-09-05 09:02:49 UTC</td>\n",
       "      <td>DynamicPrice_Result</td>\n",
       "      <td>{\"provider\":\"ApplyDynamicPriceRange\",\"offerId\"...</td>\n",
       "    </tr>\n",
       "    <tr>\n",
       "      <th>20</th>\n",
       "      <td>2021-08-18 11:43:57 UTC</td>\n",
       "      <td>DynamicPrice_Result</td>\n",
       "      <td>{\"provider\":\"ApplyDynamicPricePerOption\",\"offe...</td>\n",
       "    </tr>\n",
       "  </tbody>\n",
       "</table>\n",
       "</div>"
      ],
      "text/plain": [
       "            EnqueuedTimeUtc            EventName  \\\n",
       "9   2021-09-05 09:18:04 UTC  DynamicPrice_Result   \n",
       "33  2021-09-05 09:02:41 UTC  DynamicPrice_Result   \n",
       "0   2021-09-05 08:04:08 UTC  DynamicPrice_Result   \n",
       "17  2021-08-25 09:02:29 UTC   CurateOffer_Result   \n",
       "16  2021-09-05 08:03:00 UTC  DynamicPrice_Result   \n",
       "7   2021-09-05 04:03:08 UTC  DynamicPrice_Result   \n",
       "5   2021-08-18 11:44:00 UTC  DynamicPrice_Result   \n",
       "27  2021-09-05 09:02:17 UTC  DynamicPrice_Result   \n",
       "36  2021-09-05 09:02:49 UTC  DynamicPrice_Result   \n",
       "20  2021-08-18 11:43:57 UTC  DynamicPrice_Result   \n",
       "\n",
       "                                              Payload  \n",
       "9   {\"provider\":\"ApplyDynamicPriceRange\",\"offerId\"...  \n",
       "33  {\"provider\":\"ApplyDynamicPriceRange\",\"offerId\"...  \n",
       "0   {\"provider\":\"ApplyDynamicPriceRange\",\"offerId\"...  \n",
       "17  [{\"curationProvider\":\"ByPrice\",\"offerId\":\"0a06...  \n",
       "16  {\"provider\":\"ApplyDynamicPriceRange\",\"offerId\"...  \n",
       "7   {\"provider\":\"ApplyDynamicPriceRange\",\"offerId\"...  \n",
       "5   {\"provider\":\"ApplyDynamicPricePerOption\",\"offe...  \n",
       "27  {\"provider\":\"ApplyDynamicPriceRange\",\"offerId\"...  \n",
       "36  {\"provider\":\"ApplyDynamicPriceRange\",\"offerId\"...  \n",
       "20  {\"provider\":\"ApplyDynamicPricePerOption\",\"offe...  "
      ]
     },
     "execution_count": 3,
     "metadata": {},
     "output_type": "execute_result"
    }
   ],
   "source": [
    "#random sample \n",
    "df.sample(n=10, random_state= 45)"
   ]
  },
  {
   "cell_type": "markdown",
   "metadata": {},
   "source": [
    "# Date/Time Format"
   ]
  },
  {
   "cell_type": "code",
   "execution_count": 4,
   "metadata": {},
   "outputs": [],
   "source": [
    "# Changing the timezone & formatting the date\n",
    "# Replaced the EnqueuedTimeUtc column with the EnqueuedTimeSP column\n",
    "# all saved in the original dataframe\n",
    "df['EnqueuedTimeSP'] = pd.to_datetime(df['EnqueuedTimeUtc']).dt.tz_convert(tz='Brazil/East').dt.strftime('%d/%m/%Y %H:%M:%S')\n",
    "df.drop(columns=['EnqueuedTimeUtc'],inplace=True)"
   ]
  },
  {
   "cell_type": "markdown",
   "metadata": {},
   "source": [
    "### Creating 'CurateOffer_Options' CSV"
   ]
  },
  {
   "cell_type": "markdown",
   "metadata": {},
   "source": [
    "- CurationProvider: in quotes\n",
    "- OfferId: in quotes\n",
    "- DealerId: in quotes\n",
    "- UniqueOptionId: in quotes\n",
    "- OptionId: in quotes\n",
    "- IsMobileDealer: without quotes\n",
    "- IsOpen: without quotes\n",
    "- Eta: in quotes\n",
    "- ChamaScore: without quotes\n",
    "- ProductBrand: in quotes\n",
    "- IsWinner: without quotes\n",
    "- MinimumPrice: without quotes\n",
    "- MaximumPrice: without quotes\n",
    "- DynamicPrice: without quotes\n",
    "- FinalPrice: without quotes\n",
    "- DefeatPrimaryReason: in quotes\n",
    "- DefeatReasons: in quotes\n",
    "- EnqueuedTimeSP: DD/MM/YYYY (converted to Brasilian timezone - UTC-3)"
   ]
  },
  {
   "cell_type": "code",
   "execution_count": 8,
   "metadata": {},
   "outputs": [
    {
     "data": {
      "text/html": [
       "<div>\n",
       "<style scoped>\n",
       "    .dataframe tbody tr th:only-of-type {\n",
       "        vertical-align: middle;\n",
       "    }\n",
       "\n",
       "    .dataframe tbody tr th {\n",
       "        vertical-align: top;\n",
       "    }\n",
       "\n",
       "    .dataframe thead th {\n",
       "        text-align: right;\n",
       "    }\n",
       "</style>\n",
       "<table border=\"1\" class=\"dataframe\">\n",
       "  <thead>\n",
       "    <tr style=\"text-align: right;\">\n",
       "      <th></th>\n",
       "      <th>EventName</th>\n",
       "      <th>Payload</th>\n",
       "      <th>EnqueuedTimeSP</th>\n",
       "    </tr>\n",
       "  </thead>\n",
       "  <tbody>\n",
       "    <tr>\n",
       "      <th>3</th>\n",
       "      <td>CurateOffer_Result</td>\n",
       "      <td>[{\"curationProvider\":\"ByPrice\",\"offerId\":\"149f...</td>\n",
       "      <td>25/08/2021 02:02:55</td>\n",
       "    </tr>\n",
       "    <tr>\n",
       "      <th>13</th>\n",
       "      <td>CurateOffer_Result</td>\n",
       "      <td>[{\"curationProvider\":\"ByPrice\",\"offerId\":\"c99a...</td>\n",
       "      <td>25/08/2021 06:03:29</td>\n",
       "    </tr>\n",
       "    <tr>\n",
       "      <th>15</th>\n",
       "      <td>CurateOffer_Result</td>\n",
       "      <td>[{\"curationProvider\":\"ByPrice\",\"offerId\":\"d668...</td>\n",
       "      <td>25/08/2021 02:02:18</td>\n",
       "    </tr>\n",
       "    <tr>\n",
       "      <th>17</th>\n",
       "      <td>CurateOffer_Result</td>\n",
       "      <td>[{\"curationProvider\":\"ByPrice\",\"offerId\":\"0a06...</td>\n",
       "      <td>25/08/2021 06:02:29</td>\n",
       "    </tr>\n",
       "    <tr>\n",
       "      <th>35</th>\n",
       "      <td>CurateOffer_Result</td>\n",
       "      <td>[{\"curationProvider\":\"ByPrice\",\"offerId\":\"135d...</td>\n",
       "      <td>25/08/2021 06:03:14</td>\n",
       "    </tr>\n",
       "  </tbody>\n",
       "</table>\n",
       "</div>"
      ],
      "text/plain": [
       "             EventName                                            Payload  \\\n",
       "3   CurateOffer_Result  [{\"curationProvider\":\"ByPrice\",\"offerId\":\"149f...   \n",
       "13  CurateOffer_Result  [{\"curationProvider\":\"ByPrice\",\"offerId\":\"c99a...   \n",
       "15  CurateOffer_Result  [{\"curationProvider\":\"ByPrice\",\"offerId\":\"d668...   \n",
       "17  CurateOffer_Result  [{\"curationProvider\":\"ByPrice\",\"offerId\":\"0a06...   \n",
       "35  CurateOffer_Result  [{\"curationProvider\":\"ByPrice\",\"offerId\":\"135d...   \n",
       "\n",
       "         EnqueuedTimeSP  \n",
       "3   25/08/2021 02:02:55  \n",
       "13  25/08/2021 06:03:29  \n",
       "15  25/08/2021 02:02:18  \n",
       "17  25/08/2021 06:02:29  \n",
       "35  25/08/2021 06:03:14  "
      ]
     },
     "execution_count": 8,
     "metadata": {},
     "output_type": "execute_result"
    }
   ],
   "source": [
    "Curation = df[df['EventName'] == 'CurateOffer_Result']\n",
    "Curation"
   ]
  },
  {
   "cell_type": "code",
   "execution_count": 17,
   "metadata": {},
   "outputs": [
    {
     "ename": "TypeError",
     "evalue": "list indices must be integers or slices, not str",
     "output_type": "error",
     "traceback": [
      "\u001b[1;31m---------------------------------------------------------------------------\u001b[0m",
      "\u001b[1;31mTypeError\u001b[0m                                 Traceback (most recent call last)",
      "\u001b[1;32mKylerSpradling\\StrataScratch-Data-Transformation\\Data-Transformation\\Data_Transformation.ipynb Cell 9\u001b[0m line \u001b[0;36m<cell line: 7>\u001b[1;34m()\u001b[0m\n\u001b[0;32m      <a href='vscode-notebook-cell://github%2B7b2276223a312c22726566223a7b2274797065223a342c226964223a224272616e636831227d7d/KylerSpradling/StrataScratch-Data-Transformation/Data-Transformation/Data_Transformation.ipynb#X42sdnNjb2RlLXZmcw%3D%3D?line=3'>4</a>\u001b[0m json_str \u001b[39m=\u001b[39m \u001b[39m'\u001b[39m\u001b[39m{\u001b[39m\u001b[39m\"\u001b[39m\u001b[39mPayload\u001b[39m\u001b[39m\"\u001b[39m\u001b[39m: \u001b[39m\u001b[39m\"\u001b[39m\u001b[39m[\u001b[39m\u001b[39m{\u001b[39m\u001b[39m\\\\\u001b[39;00m\u001b[39m\"\u001b[39m\u001b[39mcurationProvider\u001b[39m\u001b[39m\\\\\u001b[39;00m\u001b[39m\"\u001b[39m\u001b[39m:\u001b[39m\u001b[39m\\\\\u001b[39;00m\u001b[39m\"\u001b[39m\u001b[39mByPrice\u001b[39m\u001b[39m\\\\\u001b[39;00m\u001b[39m\"\u001b[39m\u001b[39m,\u001b[39m\u001b[39m\\\\\u001b[39;00m\u001b[39m\"\u001b[39m\u001b[39mofferId\u001b[39m\u001b[39m\\\\\u001b[39;00m\u001b[39m\"\u001b[39m\u001b[39m:\u001b[39m\u001b[39m\\\\\u001b[39;00m\u001b[39m\"\u001b[39m\u001b[39m149f0e53-ff85-425f-a01a-8710f06704ea\u001b[39m\u001b[39m\\\\\u001b[39;00m\u001b[39m\"\u001b[39m\u001b[39m,\u001b[39m\u001b[39m\\\\\u001b[39;00m\u001b[39m\"\u001b[39m\u001b[39mdealerId\u001b[39m\u001b[39m\\\\\u001b[39;00m\u001b[39m\"\u001b[39m\u001b[39m:\u001b[39m\u001b[39m\\\\\u001b[39;00m\u001b[39m\"\u001b[39m\u001b[39m6517\u001b[39m\u001b[39m\\\\\u001b[39;00m\u001b[39m\"\u001b[39m\u001b[39m,\u001b[39m\u001b[39m\\\\\u001b[39;00m\u001b[39m\"\u001b[39m\u001b[39moptions\u001b[39m\u001b[39m\\\\\u001b[39;00m\u001b[39m\"\u001b[39m\u001b[39m:[\u001b[39m\u001b[39m{\u001b[39m\u001b[39m\\\\\u001b[39;00m\u001b[39m\"\u001b[39m\u001b[39muniqueOptionId\u001b[39m\u001b[39m\\\\\u001b[39;00m\u001b[39m\"\u001b[39m\u001b[39m:\u001b[39m\u001b[39m\\\\\u001b[39;00m\u001b[39m\"\u001b[39m\u001b[39mb0e296a9-0590-f0e0-8211-243a2ededb12\u001b[39m\u001b[39m\\\\\u001b[39;00m\u001b[39m\"\u001b[39m\u001b[39m,\u001b[39m\u001b[39m\\\\\u001b[39;00m\u001b[39m\"\u001b[39m\u001b[39moptionId\u001b[39m\u001b[39m\\\\\u001b[39;00m\u001b[39m\"\u001b[39m\u001b[39m:\u001b[39m\u001b[39m\\\\\u001b[39;00m\u001b[39m\"\u001b[39m\u001b[39m6517 || dd839e4c-9f84-45eb-9cb2-9069fecf70f2\u001b[39m\u001b[39m\\\\\u001b[39;00m\u001b[39m\"\u001b[39m\u001b[39m,\u001b[39m\u001b[39m\\\\\u001b[39;00m\u001b[39m\"\u001b[39m\u001b[39misMobileDealer\u001b[39m\u001b[39m\\\\\u001b[39;00m\u001b[39m\"\u001b[39m\u001b[39m:true,\u001b[39m\u001b[39m\\\\\u001b[39;00m\u001b[39m\"\u001b[39m\u001b[39misOpen\u001b[39m\u001b[39m\\\\\u001b[39;00m\u001b[39m\"\u001b[39m\u001b[39m:true,\u001b[39m\u001b[39m\\\\\u001b[39;00m\u001b[39m\"\u001b[39m\u001b[39meta\u001b[39m\u001b[39m\\\\\u001b[39;00m\u001b[39m\"\u001b[39m\u001b[39m:\u001b[39m\u001b[39m\\\\\u001b[39;00m\u001b[39m\"\u001b[39m\u001b[39m1:00\u001b[39m\u001b[39m\\\\\u001b[39;00m\u001b[39m\"\u001b[39m\u001b[39m,\u001b[39m\u001b[39m\\\\\u001b[39;00m\u001b[39m\"\u001b[39m\u001b[39mchamaScore\u001b[39m\u001b[39m\\\\\u001b[39;00m\u001b[39m\"\u001b[39m\u001b[39m:8.0,\u001b[39m\u001b[39m\\\\\u001b[39;00m\u001b[39m\"\u001b[39m\u001b[39mproductBrand\u001b[39m\u001b[39m\\\\\u001b[39;00m\u001b[39m\"\u001b[39m\u001b[39m:\u001b[39m\u001b[39m\\\\\u001b[39;00m\u001b[39m\"\u001b[39m\u001b[39mULTRAGAZ\u001b[39m\u001b[39m\\\\\u001b[39;00m\u001b[39m\"\u001b[39m\u001b[39m,\u001b[39m\u001b[39m\\\\\u001b[39;00m\u001b[39m\"\u001b[39m\u001b[39misWinner\u001b[39m\u001b[39m\\\\\u001b[39;00m\u001b[39m\"\u001b[39m\u001b[39m:true,\u001b[39m\u001b[39m\\\\\u001b[39;00m\u001b[39m\"\u001b[39m\u001b[39mminimumPrice\u001b[39m\u001b[39m\\\\\u001b[39;00m\u001b[39m\"\u001b[39m\u001b[39m:90.00,\u001b[39m\u001b[39m\\\\\u001b[39;00m\u001b[39m\"\u001b[39m\u001b[39mmaximumPrice\u001b[39m\u001b[39m\\\\\u001b[39;00m\u001b[39m\"\u001b[39m\u001b[39m:180.00,\u001b[39m\u001b[39m\\\\\u001b[39;00m\u001b[39m\"\u001b[39m\u001b[39mdynamicPrice\u001b[39m\u001b[39m\\\\\u001b[39;00m\u001b[39m\"\u001b[39m\u001b[39m:91.90,\u001b[39m\u001b[39m\\\\\u001b[39;00m\u001b[39m\"\u001b[39m\u001b[39mfinalPrice\u001b[39m\u001b[39m\\\\\u001b[39;00m\u001b[39m\"\u001b[39m\u001b[39m:91.90},\u001b[39m\u001b[39m{\u001b[39m\u001b[39m\\\\\u001b[39;00m\u001b[39m\"\u001b[39m\u001b[39muniqueOptionId\u001b[39m\u001b[39m\\\\\u001b[39;00m\u001b[39m\"\u001b[39m\u001b[39m:\u001b[39m\u001b[39m\\\\\u001b[39;00m\u001b[39m\"\u001b[39m\u001b[39md6562c24-0b37-5fb4-8275-65b7b8b47b87\u001b[39m\u001b[39m\\\\\u001b[39;00m\u001b[39m\"\u001b[39m\u001b[39m,\u001b[39m\u001b[39m\\\\\u001b[39;00m\u001b[39m\"\u001b[39m\u001b[39moptionId\u001b[39m\u001b[39m\\\\\u001b[39;00m\u001b[39m\"\u001b[39m\u001b[39m:\u001b[39m\u001b[39m\\\\\u001b[39;00m\u001b[39m\"\u001b[39m\u001b[39m6517 || 6517\u001b[39m\u001b[39m\\\\\u001b[39;00m\u001b[39m\"\u001b[39m\u001b[39m,\u001b[39m\u001b[39m\\\\\u001b[39;00m\u001b[39m\"\u001b[39m\u001b[39misMobileDealer\u001b[39m\u001b[39m\\\\\u001b[39;00m\u001b[39m\"\u001b[39m\u001b[39m:false,\u001b[39m\u001b[39m\\\\\u001b[39;00m\u001b[39m\"\u001b[39m\u001b[39misOpen\u001b[39m\u001b[39m\\\\\u001b[39;00m\u001b[39m\"\u001b[39m\u001b[39m:false,\u001b[39m\u001b[39m\\\\\u001b[39;00m\u001b[39m\"\u001b[39m\u001b[39meta\u001b[39m\u001b[39m\\\\\u001b[39;00m\u001b[39m\"\u001b[39m\u001b[39m:\u001b[39m\u001b[39m\\\\\u001b[39;00m\u001b[39m\"\u001b[39m\u001b[39m0:01\u001b[39m\u001b[39m\\\\\u001b[39;00m\u001b[39m\"\u001b[39m\u001b[39m,\u001b[39m\u001b[39m\\\\\u001b[39;00m\u001b[39m\"\u001b[39m\u001b[39mchamaScore\u001b[39m\u001b[39m\\\\\u001b[39;00m\u001b[39m\"\u001b[39m\u001b[39m:8.0,\u001b[39m\u001b[39m\\\\\u001b[39;00m\u001b[39m\"\u001b[39m\u001b[39mproductBrand\u001b[39m\u001b[39m\\\\\u001b[39;00m\u001b[39m\"\u001b[39m\u001b[39m:\u001b[39m\u001b[39m\\\\\u001b[39;00m\u001b[39m\"\u001b[39m\u001b[39mULTRAGAZ\u001b[39m\u001b[39m\\\\\u001b[39;00m\u001b[39m\"\u001b[39m\u001b[39m,\u001b[39m\u001b[39m\\\\\u001b[39;00m\u001b[39m\"\u001b[39m\u001b[39misWinner\u001b[39m\u001b[39m\\\\\u001b[39;00m\u001b[39m\"\u001b[39m\u001b[39m:false,\u001b[39m\u001b[39m\\\\\u001b[39;00m\u001b[39m\"\u001b[39m\u001b[39mminimumPrice\u001b[39m\u001b[39m\\\\\u001b[39;00m\u001b[39m\"\u001b[39m\u001b[39m:90.00,\u001b[39m\u001b[39m\\\\\u001b[39;00m\u001b[39m\"\u001b[39m\u001b[39mmaximumPrice\u001b[39m\u001b[39m\\\\\u001b[39;00m\u001b[39m\"\u001b[39m\u001b[39m:180.00,\u001b[39m\u001b[39m\\\\\u001b[39;00m\u001b[39m\"\u001b[39m\u001b[39mdynamicPrice\u001b[39m\u001b[39m\\\\\u001b[39;00m\u001b[39m\"\u001b[39m\u001b[39m:91.90,\u001b[39m\u001b[39m\\\\\u001b[39;00m\u001b[39m\"\u001b[39m\u001b[39mfinalPrice\u001b[39m\u001b[39m\\\\\u001b[39;00m\u001b[39m\"\u001b[39m\u001b[39m:91.90,\u001b[39m\u001b[39m\\\\\u001b[39;00m\u001b[39m\"\u001b[39m\u001b[39mdefeatPrimaryReason\u001b[39m\u001b[39m\\\\\u001b[39;00m\u001b[39m\"\u001b[39m\u001b[39m:\u001b[39m\u001b[39m\\\\\u001b[39;00m\u001b[39m\"\u001b[39m\u001b[39mClosed\u001b[39m\u001b[39m\\\\\u001b[39;00m\u001b[39m\"\u001b[39m\u001b[39m,\u001b[39m\u001b[39m\\\\\u001b[39;00m\u001b[39m\"\u001b[39m\u001b[39mdefeatReasons\u001b[39m\u001b[39m\\\\\u001b[39;00m\u001b[39m\"\u001b[39m\u001b[39m:[\u001b[39m\u001b[39m\\\\\u001b[39;00m\u001b[39m\"\u001b[39m\u001b[39mClosed\u001b[39m\u001b[39m\\\\\u001b[39;00m\u001b[39m\"\u001b[39m\u001b[39m,\u001b[39m\u001b[39m\\\\\u001b[39;00m\u001b[39m\"\u001b[39m\u001b[39mHasDriverInOffer\u001b[39m\u001b[39m\\\\\u001b[39;00m\u001b[39m\"\u001b[39m\u001b[39m]}]},\u001b[39m\u001b[39m{\u001b[39m\u001b[39m\\\\\u001b[39;00m\u001b[39m\"\u001b[39m\u001b[39mcurationProvider\u001b[39m\u001b[39m\\\\\u001b[39;00m\u001b[39m\"\u001b[39m\u001b[39m:\u001b[39m\u001b[39m\\\\\u001b[39;00m\u001b[39m\"\u001b[39m\u001b[39mByPrice\u001b[39m\u001b[39m\\\\\u001b[39;00m\u001b[39m\"\u001b[39m\u001b[39m,\u001b[39m\u001b[39m\\\\\u001b[39;00m\u001b[39m\"\u001b[39m\u001b[39mofferId\u001b[39m\u001b[39m\\\\\u001b[39;00m\u001b[39m\"\u001b[39m\u001b[39m:\u001b[39m\u001b[39m\\\\\u001b[39;00m\u001b[39m\"\u001b[39m\u001b[39m149f0e53-ff85-425f-a01a-8710f06704ea\u001b[39m\u001b[39m\\\\\u001b[39;00m\u001b[39m\"\u001b[39m\u001b[39m,\u001b[39m\u001b[39m\\\\\u001b[39;00m\u001b[39m\"\u001b[39m\u001b[39mdealerId\u001b[39m\u001b[39m\\\\\u001b[39;00m\u001b[39m\"\u001b[39m\u001b[39m:\u001b[39m\u001b[39m\\\\\u001b[39;00m\u001b[39m\"\u001b[39m\u001b[39m9047\u001b[39m\u001b[39m\\\\\u001b[39;00m\u001b[39m\"\u001b[39m\u001b[39m,\u001b[39m\u001b[39m\\\\\u001b[39;00m\u001b[39m\"\u001b[39m\u001b[39moptions\u001b[39m\u001b[39m\\\\\u001b[39;00m\u001b[39m\"\u001b[39m\u001b[39m:[\u001b[39m\u001b[39m{\u001b[39m\u001b[39m\\\\\u001b[39;00m\u001b[39m\"\u001b[39m\u001b[39muniqueOptionId\u001b[39m\u001b[39m\\\\\u001b[39;00m\u001b[39m\"\u001b[39m\u001b[39m:\u001b[39m\u001b[39m\\\\\u001b[39;00m\u001b[39m\"\u001b[39m\u001b[39m8d0f9262-f543-d0c8-a869-33985ae3ecda\u001b[39m\u001b[39m\\\\\u001b[39;00m\u001b[39m\"\u001b[39m\u001b[39m,\u001b[39m\u001b[39m\\\\\u001b[39;00m\u001b[39m\"\u001b[39m\u001b[39moptionId\u001b[39m\u001b[39m\\\\\u001b[39;00m\u001b[39m\"\u001b[39m\u001b[39m:\u001b[39m\u001b[39m\\\\\u001b[39;00m\u001b[39m\"\u001b[39m\u001b[39m9047 || 9047 || ULTRAGAZ\u001b[39m\u001b[39m\\\\\u001b[39;00m\u001b[39m\"\u001b[39m\u001b[39m,\u001b[39m\u001b[39m\\\\\u001b[39;00m\u001b[39m\"\u001b[39m\u001b[39misMobileDealer\u001b[39m\u001b[39m\\\\\u001b[39;00m\u001b[39m\"\u001b[39m\u001b[39m:false,\u001b[39m\u001b[39m\\\\\u001b[39;00m\u001b[39m\"\u001b[39m\u001b[39misOpen\u001b[39m\u001b[39m\\\\\u001b[39;00m\u001b[39m\"\u001b[39m\u001b[39m:false,\u001b[39m\u001b[39m\\\\\u001b[39;00m\u001b[39m\"\u001b[39m\u001b[39meta\u001b[39m\u001b[39m\\\\\u001b[39;00m\u001b[39m\"\u001b[39m\u001b[39m:\u001b[39m\u001b[39m\\\\\u001b[39;00m\u001b[39m\"\u001b[39m\u001b[39m1:00\u001b[39m\u001b[39m\\\\\u001b[39;00m\u001b[39m\"\u001b[39m\u001b[39m,\u001b[39m\u001b[39m\\\\\u001b[39;00m\u001b[39m\"\u001b[39m\u001b[39mchamaScore\u001b[39m\u001b[39m\\\\\u001b[39;00m\u001b[39m\"\u001b[39m\u001b[39m:9.0,\u001b[39m\u001b[39m\\\\\u001b[39;00m\u001b[39m\"\u001b[39m\u001b[39mproductBrand\u001b[39m\u001b[39m\\\\\u001b[39;00m\u001b[39m\"\u001b[39m\u001b[39m:\u001b[39m\u001b[39m\\\\\u001b[39;00m\u001b[39m\"\u001b[39m\u001b[39mULTRAGAZ\u001b[39m\u001b[39m\\\\\u001b[39;00m\u001b[39m\"\u001b[39m\u001b[39m,\u001b[39m\u001b[39m\\\\\u001b[39;00m\u001b[39m\"\u001b[39m\u001b[39misWinner\u001b[39m\u001b[39m\\\\\u001b[39;00m\u001b[39m\"\u001b[39m\u001b[39m:false,\u001b[39m\u001b[39m\\\\\u001b[39;00m\u001b[39m\"\u001b[39m\u001b[39mminimumPrice\u001b[39m\u001b[39m\\\\\u001b[39;00m\u001b[39m\"\u001b[39m\u001b[39m:99.00,\u001b[39m\u001b[39m\\\\\u001b[39;00m\u001b[39m\"\u001b[39m\u001b[39mmaximumPrice\u001b[39m\u001b[39m\\\\\u001b[39;00m\u001b[39m\"\u001b[39m\u001b[39m:198.00,\u001b[39m\u001b[39m\\\\\u001b[39;00m\u001b[39m\"\u001b[39m\u001b[39mdynamicPrice\u001b[39m\u001b[39m\\\\\u001b[39;00m\u001b[39m\"\u001b[39m\u001b[39m:99.95,\u001b[39m\u001b[39m\\\\\u001b[39;00m\u001b[39m\"\u001b[39m\u001b[39mfinalPrice\u001b[39m\u001b[39m\\\\\u001b[39;00m\u001b[39m\"\u001b[39m\u001b[39m:99.95,\u001b[39m\u001b[39m\\\\\u001b[39;00m\u001b[39m\"\u001b[39m\u001b[39mdefeatPrimaryReason\u001b[39m\u001b[39m\\\\\u001b[39;00m\u001b[39m\"\u001b[39m\u001b[39m:\u001b[39m\u001b[39m\\\\\u001b[39;00m\u001b[39m\"\u001b[39m\u001b[39mClosed\u001b[39m\u001b[39m\\\\\u001b[39;00m\u001b[39m\"\u001b[39m\u001b[39m,\u001b[39m\u001b[39m\\\\\u001b[39;00m\u001b[39m\"\u001b[39m\u001b[39mdefeatReasons\u001b[39m\u001b[39m\\\\\u001b[39;00m\u001b[39m\"\u001b[39m\u001b[39m:[\u001b[39m\u001b[39m\\\\\u001b[39;00m\u001b[39m\"\u001b[39m\u001b[39mClosed\u001b[39m\u001b[39m\\\\\u001b[39;00m\u001b[39m\"\u001b[39m\u001b[39m,\u001b[39m\u001b[39m\\\\\u001b[39;00m\u001b[39m\"\u001b[39m\u001b[39mHigherPrice\u001b[39m\u001b[39m\\\\\u001b[39;00m\u001b[39m\"\u001b[39m\u001b[39m,\u001b[39m\u001b[39m\\\\\u001b[39;00m\u001b[39m\"\u001b[39m\u001b[39mHasDriverInOffer\u001b[39m\u001b[39m\\\\\u001b[39;00m\u001b[39m\"\u001b[39m\u001b[39m]},\u001b[39m\u001b[39m{\u001b[39m\u001b[39m\\\\\u001b[39;00m\u001b[39m\"\u001b[39m\u001b[39muniqueOptionId\u001b[39m\u001b[39m\\\\\u001b[39;00m\u001b[39m\"\u001b[39m\u001b[39m:\u001b[39m\u001b[39m\\\\\u001b[39;00m\u001b[39m\"\u001b[39m\u001b[39m3cd346f4-d297-7568-2e50-d43a8e2fd0a9\u001b[39m\u001b[39m\\\\\u001b[39;00m\u001b[39m\"\u001b[39m\u001b[39m,\u001b[39m\u001b[39m\\\\\u001b[39;00m\u001b[39m\"\u001b[39m\u001b[39moptionId\u001b[39m\u001b[39m\\\\\u001b[39;00m\u001b[39m\"\u001b[39m\u001b[39m:\u001b[39m\u001b[39m\\\\\u001b[39;00m\u001b[39m\"\u001b[39m\u001b[39m9047 || 9047 || CONSIGAZ\u001b[39m\u001b[39m\\\\\u001b[39;00m\u001b[39m\"\u001b[39m\u001b[39m,\u001b[39m\u001b[39m\\\\\u001b[39;00m\u001b[39m\"\u001b[39m\u001b[39misMobileDealer\u001b[39m\u001b[39m\\\\\u001b[39;00m\u001b[39m\"\u001b[39m\u001b[39m:false,\u001b[39m\u001b[39m\\\\\u001b[39;00m\u001b[39m\"\u001b[39m\u001b[39misOpen\u001b[39m\u001b[39m\\\\\u001b[39;00m\u001b[39m\"\u001b[39m\u001b[39m:false,\u001b[39m\u001b[39m\\\\\u001b[39;00m\u001b[39m\"\u001b[39m\u001b[39meta\u001b[39m\u001b[39m\\\\\u001b[39;00m\u001b[39m\"\u001b[39m\u001b[39m:\u001b[39m\u001b[39m\\\\\u001b[39;00m\u001b[39m\"\u001b[39m\u001b[39m1:00\u001b[39m\u001b[39m\\\\\u001b[39;00m\u001b[39m\"\u001b[39m\u001b[39m,\u001b[39m\u001b[39m\\\\\u001b[39;00m\u001b[39m\"\u001b[39m\u001b[39mchamaScore\u001b[39m\u001b[39m\\\\\u001b[39;00m\u001b[39m\"\u001b[39m\u001b[39m:9.0,\u001b[39m\u001b[39m\\\\\u001b[39;00m\u001b[39m\"\u001b[39m\u001b[39mproductBrand\u001b[39m\u001b[39m\\\\\u001b[39;00m\u001b[39m\"\u001b[39m\u001b[39m:\u001b[39m\u001b[39m\\\\\u001b[39;00m\u001b[39m\"\u001b[39m\u001b[39mCONSIGAZ\u001b[39m\u001b[39m\\\\\u001b[39;00m\u001b[39m\"\u001b[39m\u001b[39m,\u001b[39m\u001b[39m\\\\\u001b[39;00m\u001b[39m\"\u001b[39m\u001b[39misWinner\u001b[39m\u001b[39m\\\\\u001b[39;00m\u001b[39m\"\u001b[39m\u001b[39m:false,\u001b[39m\u001b[39m\\\\\u001b[39;00m\u001b[39m\"\u001b[39m\u001b[39mminimumPrice\u001b[39m\u001b[39m\\\\\u001b[39;00m\u001b[39m\"\u001b[39m\u001b[39m:89.99,\u001b[39m\u001b[39m\\\\\u001b[39;00m\u001b[39m\"\u001b[39m\u001b[39mmaximumPrice\u001b[39m\u001b[39m\\\\\u001b[39;00m\u001b[39m\"\u001b[39m\u001b[39m:179.98,\u001b[39m\u001b[39m\\\\\u001b[39;00m\u001b[39m\"\u001b[39m\u001b[39mdynamicPrice\u001b[39m\u001b[39m\\\\\u001b[39;00m\u001b[39m\"\u001b[39m\u001b[39m:91.89,\u001b[39m\u001b[39m\\\\\u001b[39;00m\u001b[39m\"\u001b[39m\u001b[39mfinalPrice\u001b[39m\u001b[39m\\\\\u001b[39;00m\u001b[39m\"\u001b[39m\u001b[39m:91.89,\u001b[39m\u001b[39m\\\\\u001b[39;00m\u001b[39m\"\u001b[39m\u001b[39mdefeatPrimaryReason\u001b[39m\u001b[39m\\\\\u001b[39;00m\u001b[39m\"\u001b[39m\u001b[39m:\u001b[39m\u001b[39m\\\\\u001b[39;00m\u001b[39m\"\u001b[39m\u001b[39mClosed\u001b[39m\u001b[39m\\\\\u001b[39;00m\u001b[39m\"\u001b[39m\u001b[39m,\u001b[39m\u001b[39m\\\\\u001b[39;00m\u001b[39m\"\u001b[39m\u001b[39mdefeatReasons\u001b[39m\u001b[39m\\\\\u001b[39;00m\u001b[39m\"\u001b[39m\u001b[39m:[\u001b[39m\u001b[39m\\\\\u001b[39;00m\u001b[39m\"\u001b[39m\u001b[39mClosed\u001b[39m\u001b[39m\\\\\u001b[39;00m\u001b[39m\"\u001b[39m\u001b[39m,\u001b[39m\u001b[39m\\\\\u001b[39;00m\u001b[39m\"\u001b[39m\u001b[39mHigherPrice\u001b[39m\u001b[39m\\\\\u001b[39;00m\u001b[39m\"\u001b[39m\u001b[39m,\u001b[39m\u001b[39m\\\\\u001b[39;00m\u001b[39m\"\u001b[39m\u001b[39mHigherETA\u001b[39m\u001b[39m\\\\\u001b[39;00m\u001b[39m\"\u001b[39m\u001b[39m]},\u001b[39m\u001b[39m{\u001b[39m\u001b[39m\\\\\u001b[39;00m\u001b[39m\"\u001b[39m\u001b[39muniqueOptionId\u001b[39m\u001b[39m\\\\\u001b[39;00m\u001b[39m\"\u001b[39m\u001b[39m:\u001b[39m\u001b[39m\\\\\u001b[39;00m\u001b[39m\"\u001b[39m\u001b[39m577e4bbd-f49d-ac23-56a6-e70072a05229\u001b[39m\u001b[39m\\\\\u001b[39;00m\u001b[39m\"\u001b[39m\u001b[39m,\u001b[39m\u001b[39m\\\\\u001b[39;00m\u001b[39m\"\u001b[39m\u001b[39moptionId\u001b[39m\u001b[39m\\\\\u001b[39;00m\u001b[39m\"\u001b[39m\u001b[39m:\u001b[39m\u001b[39m\\\\\u001b[39;00m\u001b[39m\"\u001b[39m\u001b[39m9047 || 9047 || LIQUIGAS\u001b[39m\u001b[39m\\\\\u001b[39;00m\u001b[39m\"\u001b[39m\u001b[39m,\u001b[39m\u001b[39m\\\\\u001b[39;00m\u001b[39m\"\u001b[39m\u001b[39misMobileDealer\u001b[39m\u001b[39m\\\\\u001b[39;00m\u001b[39m\"\u001b[39m\u001b[39m:false,\u001b[39m\u001b[39m\\\\\u001b[39;00m\u001b[39m\"\u001b[39m\u001b[39misOpen\u001b[39m\u001b[39m\\\\\u001b[39;00m\u001b[39m\"\u001b[39m\u001b[39m:false,\u001b[39m\u001b[39m\\\\\u001b[39;00m\u001b[39m\"\u001b[39m\u001b[39meta\u001b[39m\u001b[39m\\\\\u001b[39;00m\u001b[39m\"\u001b[39m\u001b[39m:\u001b[39m\u001b[39m\\\\\u001b[39;00m\u001b[39m\"\u001b[39m\u001b[39m1:00\u001b[39m\u001b[39m\\\\\u001b[39;00m\u001b[39m\"\u001b[39m\u001b[39m,\u001b[39m\u001b[39m\\\\\u001b[39;00m\u001b[39m\"\u001b[39m\u001b[39mchamaScore\u001b[39m\u001b[39m\\\\\u001b[39;00m\u001b[39m\"\u001b[39m\u001b[39m:9.0,\u001b[39m\u001b[39m\\\\\u001b[39;00m\u001b[39m\"\u001b[39m\u001b[39mproductBrand\u001b[39m\u001b[39m\\\\\u001b[39;00m\u001b[39m\"\u001b[39m\u001b[39m:\u001b[39m\u001b[39m\\\\\u001b[39;00m\u001b[39m\"\u001b[39m\u001b[39mLIQUIGAS\u001b[39m\u001b[39m\\\\\u001b[39;00m\u001b[39m\"\u001b[39m\u001b[39m,\u001b[39m\u001b[39m\\\\\u001b[39;00m\u001b[39m\"\u001b[39m\u001b[39misWinner\u001b[39m\u001b[39m\\\\\u001b[39;00m\u001b[39m\"\u001b[39m\u001b[39m:false,\u001b[39m\u001b[39m\\\\\u001b[39;00m\u001b[39m\"\u001b[39m\u001b[39mminimumPrice\u001b[39m\u001b[39m\\\\\u001b[39;00m\u001b[39m\"\u001b[39m\u001b[39m:92.00,\u001b[39m\u001b[39m\\\\\u001b[39;00m\u001b[39m\"\u001b[39m\u001b[39mmaximumPrice\u001b[39m\u001b[39m\\\\\u001b[39;00m\u001b[39m\"\u001b[39m\u001b[39m:184.00,\u001b[39m\u001b[39m\\\\\u001b[39;00m\u001b[39m\"\u001b[39m\u001b[39mdynamicPrice\u001b[39m\u001b[39m\\\\\u001b[39;00m\u001b[39m\"\u001b[39m\u001b[39m:93.90,\u001b[39m\u001b[39m\\\\\u001b[39;00m\u001b[39m\"\u001b[39m\u001b[39mfinalPrice\u001b[39m\u001b[39m\\\\\u001b[39;00m\u001b[39m\"\u001b[39m\u001b[39m:93.90,\u001b[39m\u001b[39m\\\\\u001b[39;00m\u001b[39m\"\u001b[39m\u001b[39mdefeatPrimaryReason\u001b[39m\u001b[39m\\\\\u001b[39;00m\u001b[39m\"\u001b[39m\u001b[39m:\u001b[39m\u001b[39m\\\\\u001b[39;00m\u001b[39m\"\u001b[39m\u001b[39mClosed\u001b[39m\u001b[39m\\\\\u001b[39;00m\u001b[39m\"\u001b[39m\u001b[39m,\u001b[39m\u001b[39m\\\\\u001b[39;00m\u001b[39m\"\u001b[39m\u001b[39mdefeatReasons\u001b[39m\u001b[39m\\\\\u001b[39;00m\u001b[39m\"\u001b[39m\u001b[39m:[\u001b[39m\u001b[39m\\\\\u001b[39;00m\u001b[39m\"\u001b[39m\u001b[39mClosed\u001b[39m\u001b[39m\\\\\u001b[39;00m\u001b[39m\"\u001b[39m\u001b[39m,\u001b[39m\u001b[39m\\\\\u001b[39;00m\u001b[39m\"\u001b[39m\u001b[39mHigherPrice\u001b[39m\u001b[39m\\\\\u001b[39;00m\u001b[39m\"\u001b[39m\u001b[39m,\u001b[39m\u001b[39m\\\\\u001b[39;00m\u001b[39m\"\u001b[39m\u001b[39mHigherETA\u001b[39m\u001b[39m\\\\\u001b[39;00m\u001b[39m\"\u001b[39m\u001b[39m]},\u001b[39m\u001b[39m{\u001b[39m\u001b[39m\\\\\u001b[39;00m\u001b[39m\"\u001b[39m\u001b[39muniqueOptionId\u001b[39m\u001b[39m\\\\\u001b[39;00m\u001b[39m\"\u001b[39m\u001b[39m:\u001b[39m\u001b[39m\\\\\u001b[39;00m\u001b[39m\"\u001b[39m\u001b[39mf9b876ab-2590-952f-d69d-5b352ec251f3\u001b[39m\u001b[39m\\\\\u001b[39;00m\u001b[39m\"\u001b[39m\u001b[39m,\u001b[39m\u001b[39m\\\\\u001b[39;00m\u001b[39m\"\u001b[39m\u001b[39moptionId\u001b[39m\u001b[39m\\\\\u001b[39;00m\u001b[39m\"\u001b[39m\u001b[39m:\u001b[39m\u001b[39m\\\\\u001b[39;00m\u001b[39m\"\u001b[39m\u001b[39m9047 || 9047 || NACIONALGAS\u001b[39m\u001b[39m\\\\\u001b[39;00m\u001b[39m\"\u001b[39m\u001b[39m,\u001b[39m\u001b[39m\\\\\u001b[39;00m\u001b[39m\"\u001b[39m\u001b[39misMobileDealer\u001b[39m\u001b[39m\\\\\u001b[39;00m\u001b[39m\"\u001b[39m\u001b[39m:false,\u001b[39m\u001b[39m\\\\\u001b[39;00m\u001b[39m\"\u001b[39m\u001b[39misOpen\u001b[39m\u001b[39m\\\\\u001b[39;00m\u001b[39m\"\u001b[39m\u001b[39m:false,\u001b[39m\u001b[39m\\\\\u001b[39;00m\u001b[39m\"\u001b[39m\u001b[39meta\u001b[39m\u001b[39m\\\\\u001b[39;00m\u001b[39m\"\u001b[39m\u001b[39m:\u001b[39m\u001b[39m\\\\\u001b[39;00m\u001b[39m\"\u001b[39m\u001b[39m1:00\u001b[39m\u001b[39m\\\\\u001b[39;00m\u001b[39m\"\u001b[39m\u001b[39m,\u001b[39m\u001b[39m\\\\\u001b[39;00m\u001b[39m\"\u001b[39m\u001b[39mchamaScore\u001b[39m\u001b[39m\\\\\u001b[39;00m\u001b[39m\"\u001b[39m\u001b[39m:9.0,\u001b[39m\u001b[39m\\\\\u001b[39;00m\u001b[39m\"\u001b[39m\u001b[39mproductBrand\u001b[39m\u001b[39m\\\\\u001b[39;00m\u001b[39m\"\u001b[39m\u001b[39m:\u001b[39m\u001b[39m\\\\\u001b[39;00m\u001b[39m\"\u001b[39m\u001b[39mNACIONALGAS\u001b[39m\u001b[39m\\\\\u001b[39;00m\u001b[39m\"\u001b[39m\u001b[39m,\u001b[39m\u001b[39m\\\\\u001b[39;00m\u001b[39m\"\u001b[39m\u001b[39misWinner\u001b[39m\u001b[39m\\\\\u001b[39;00m\u001b[39m\"\u001b[39m\u001b[39m:true,\u001b[39m\u001b[39m\\\\\u001b[39;00m\u001b[39m\"\u001b[39m\u001b[39mminimumPrice\u001b[39m\u001b[39m\\\\\u001b[39;00m\u001b[39m\"\u001b[39m\u001b[39m:88.90,\u001b[39m\u001b[39m\\\\\u001b[39;00m\u001b[39m\"\u001b[39m\u001b[39mmaximumPrice\u001b[39m\u001b[39m\\\\\u001b[39;00m\u001b[39m\"\u001b[39m\u001b[39m:177.80,\u001b[39m\u001b[39m\\\\\u001b[39;00m\u001b[39m\"\u001b[39m\u001b[39mdynamicPrice\u001b[39m\u001b[39m\\\\\u001b[39;00m\u001b[39m\"\u001b[39m\u001b[39m:90.80,\u001b[39m\u001b[39m\\\\\u001b[39;00m\u001b[39m\"\u001b[39m\u001b[39mfinalPrice\u001b[39m\u001b[39m\\\\\u001b[39;00m\u001b[39m\"\u001b[39m\u001b[39m:90.80}]},\u001b[39m\u001b[39m{\u001b[39m\u001b[39m\\\\\u001b[39;00m\u001b[39m\"\u001b[39m\u001b[39mcurationProvider\u001b[39m\u001b[39m\\\\\u001b[39;00m\u001b[39m\"\u001b[39m\u001b[39m:\u001b[39m\u001b[39m\\\\\u001b[39;00m\u001b[39m\"\u001b[39m\u001b[39mByPrice\u001b[39m\u001b[39m\\\\\u001b[39;00m\u001b[39m\"\u001b[39m\u001b[39m,\u001b[39m\u001b[39m\\\\\u001b[39;00m\u001b[39m\"\u001b[39m\u001b[39mofferId\u001b[39m\u001b[39m\\\\\u001b[39;00m\u001b[39m\"\u001b[39m\u001b[39m:\u001b[39m\u001b[39m\\\\\u001b[39;00m\u001b[39m\"\u001b[39m\u001b[39m149f0e53-ff85-425f-a01a-8710f06704ea\u001b[39m\u001b[39m\\\\\u001b[39;00m\u001b[39m\"\u001b[39m\u001b[39m,\u001b[39m\u001b[39m\\\\\u001b[39;00m\u001b[39m\"\u001b[39m\u001b[39mdealerId\u001b[39m\u001b[39m\\\\\u001b[39;00m\u001b[39m\"\u001b[39m\u001b[39m:\u001b[39m\u001b[39m\\\\\u001b[39;00m\u001b[39m\"\u001b[39m\u001b[39m8330\u001b[39m\u001b[39m\\\\\u001b[39;00m\u001b[39m\"\u001b[39m\u001b[39m,\u001b[39m\u001b[39m\\\\\u001b[39;00m\u001b[39m\"\u001b[39m\u001b[39moptions\u001b[39m\u001b[39m\\\\\u001b[39;00m\u001b[39m\"\u001b[39m\u001b[39m:[\u001b[39m\u001b[39m{\u001b[39m\u001b[39m\\\\\u001b[39;00m\u001b[39m\"\u001b[39m\u001b[39muniqueOptionId\u001b[39m\u001b[39m\\\\\u001b[39;00m\u001b[39m\"\u001b[39m\u001b[39m:\u001b[39m\u001b[39m\\\\\u001b[39;00m\u001b[39m\"\u001b[39m\u001b[39m151e59ac-761a-96f5-d2b9-882037a9fd28\u001b[39m\u001b[39m\\\\\u001b[39;00m\u001b[39m\"\u001b[39m\u001b[39m,\u001b[39m\u001b[39m\\\\\u001b[39;00m\u001b[39m\"\u001b[39m\u001b[39moptionId\u001b[39m\u001b[39m\\\\\u001b[39;00m\u001b[39m\"\u001b[39m\u001b[39m:\u001b[39m\u001b[39m\\\\\u001b[39;00m\u001b[39m\"\u001b[39m\u001b[39m8330 || 8330 || CONSIGAZ\u001b[39m\u001b[39m\\\\\u001b[39;00m\u001b[39m\"\u001b[39m\u001b[39m,\u001b[39m\u001b[39m\\\\\u001b[39;00m\u001b[39m\"\u001b[39m\u001b[39misMobileDealer\u001b[39m\u001b[39m\\\\\u001b[39;00m\u001b[39m\"\u001b[39m\u001b[39m:false,\u001b[39m\u001b[39m\\\\\u001b[39;00m\u001b[39m\"\u001b[39m\u001b[39misOpen\u001b[39m\u001b[39m\\\\\u001b[39;00m\u001b[39m\"\u001b[39m\u001b[39m:true,\u001b[39m\u001b[39m\\\\\u001b[39;00m\u001b[39m\"\u001b[39m\u001b[39meta\u001b[39m\u001b[39m\\\\\u001b[39;00m\u001b[39m\"\u001b[39m\u001b[39m:\u001b[39m\u001b[39m\\\\\u001b[39;00m\u001b[39m\"\u001b[39m\u001b[39m0:01\u001b[39m\u001b[39m\\\\\u001b[39;00m\u001b[39m\"\u001b[39m\u001b[39m,\u001b[39m\u001b[39m\\\\\u001b[39;00m\u001b[39m\"\u001b[39m\u001b[39mchamaScore\u001b[39m\u001b[39m\\\\\u001b[39;00m\u001b[39m\"\u001b[39m\u001b[39m:8.0,\u001b[39m\u001b[39m\\\\\u001b[39;00m\u001b[39m\"\u001b[39m\u001b[39mproductBrand\u001b[39m\u001b[39m\\\\\u001b[39;00m\u001b[39m\"\u001b[39m\u001b[39m:\u001b[39m\u001b[39m\\\\\u001b[39;00m\u001b[39m\"\u001b[39m\u001b[39mCONSIGAZ\u001b[39m\u001b[39m\\\\\u001b[39;00m\u001b[39m\"\u001b[39m\u001b[39m,\u001b[39m\u001b[39m\\\\\u001b[39;00m\u001b[39m\"\u001b[39m\u001b[39misWinner\u001b[39m\u001b[39m\\\\\u001b[39;00m\u001b[39m\"\u001b[39m\u001b[39m:true,\u001b[39m\u001b[39m\\\\\u001b[39;00m\u001b[39m\"\u001b[39m\u001b[39mminimumPrice\u001b[39m\u001b[39m\\\\\u001b[39;00m\u001b[39m\"\u001b[39m\u001b[39m:80.00,\u001b[39m\u001b[39m\\\\\u001b[39;00m\u001b[39m\"\u001b[39m\u001b[39mmaximumPrice\u001b[39m\u001b[39m\\\\\u001b[39;00m\u001b[39m\"\u001b[39m\u001b[39m:160.00,\u001b[39m\u001b[39m\\\\\u001b[39;00m\u001b[39m\"\u001b[39m\u001b[39mdynamicPrice\u001b[39m\u001b[39m\\\\\u001b[39;00m\u001b[39m\"\u001b[39m\u001b[39m:87.35,\u001b[39m\u001b[39m\\\\\u001b[39;00m\u001b[39m\"\u001b[39m\u001b[39mfinalPrice\u001b[39m\u001b[39m\\\\\u001b[39;00m\u001b[39m\"\u001b[39m\u001b[39m:87.35}]},\u001b[39m\u001b[39m{\u001b[39m\u001b[39m\\\\\u001b[39;00m\u001b[39m\"\u001b[39m\u001b[39mcurationProvider\u001b[39m\u001b[39m\\\\\u001b[39;00m\u001b[39m\"\u001b[39m\u001b[39m:\u001b[39m\u001b[39m\\\\\u001b[39;00m\u001b[39m\"\u001b[39m\u001b[39mByPrice\u001b[39m\u001b[39m\\\\\u001b[39;00m\u001b[39m\"\u001b[39m\u001b[39m,\u001b[39m\u001b[39m\\\\\u001b[39;00m\u001b[39m\"\u001b[39m\u001b[39mofferId\u001b[39m\u001b[39m\\\\\u001b[39;00m\u001b[39m\"\u001b[39m\u001b[39m:\u001b[39m\u001b[39m\\\\\u001b[39;00m\u001b[39m\"\u001b[39m\u001b[39m149f0e53-ff85-425f-a01a-8710f06704ea\u001b[39m\u001b[39m\\\\\u001b[39;00m\u001b[39m\"\u001b[39m\u001b[39m,\u001b[39m\u001b[39m\\\\\u001b[39;00m\u001b[39m\"\u001b[39m\u001b[39mdealerId\u001b[39m\u001b[39m\\\\\u001b[39;00m\u001b[39m\"\u001b[39m\u001b[39m:\u001b[39m\u001b[39m\\\\\u001b[39;00m\u001b[39m\"\u001b[39m\u001b[39m8835\u001b[39m\u001b[39m\\\\\u001b[39;00m\u001b[39m\"\u001b[39m\u001b[39m,\u001b[39m\u001b[39m\\\\\u001b[39;00m\u001b[39m\"\u001b[39m\u001b[39moptions\u001b[39m\u001b[39m\\\\\u001b[39;00m\u001b[39m\"\u001b[39m\u001b[39m:[\u001b[39m\u001b[39m{\u001b[39m\u001b[39m\\\\\u001b[39;00m\u001b[39m\"\u001b[39m\u001b[39muniqueOptionId\u001b[39m\u001b[39m\\\\\u001b[39;00m\u001b[39m\"\u001b[39m\u001b[39m:\u001b[39m\u001b[39m\\\\\u001b[39;00m\u001b[39m\"\u001b[39m\u001b[39mb7a7b6d1-4dae-7392-5aaf-f3369c29db1d\u001b[39m\u001b[39m\\\\\u001b[39;00m\u001b[39m\"\u001b[39m\u001b[39m,\u001b[39m\u001b[39m\\\\\u001b[39;00m\u001b[39m\"\u001b[39m\u001b[39moptionId\u001b[39m\u001b[39m\\\\\u001b[39;00m\u001b[39m\"\u001b[39m\u001b[39m:\u001b[39m\u001b[39m\\\\\u001b[39;00m\u001b[39m\"\u001b[39m\u001b[39m8835 || 8835 || LIQUIGAS\u001b[39m\u001b[39m\\\\\u001b[39;00m\u001b[39m\"\u001b[39m\u001b[39m,\u001b[39m\u001b[39m\\\\\u001b[39;00m\u001b[39m\"\u001b[39m\u001b[39misMobileDealer\u001b[39m\u001b[39m\\\\\u001b[39;00m\u001b[39m\"\u001b[39m\u001b[39m:false,\u001b[39m\u001b[39m\\\\\u001b[39;00m\u001b[39m\"\u001b[39m\u001b[39misOpen\u001b[39m\u001b[39m\\\\\u001b[39;00m\u001b[39m\"\u001b[39m\u001b[39m:false,\u001b[39m\u001b[39m\\\\\u001b[39;00m\u001b[39m\"\u001b[39m\u001b[39meta\u001b[39m\u001b[39m\\\\\u001b[39;00m\u001b[39m\"\u001b[39m\u001b[39m:\u001b[39m\u001b[39m\\\\\u001b[39;00m\u001b[39m\"\u001b[39m\u001b[39m0:01\u001b[39m\u001b[39m\\\\\u001b[39;00m\u001b[39m\"\u001b[39m\u001b[39m,\u001b[39m\u001b[39m\\\\\u001b[39;00m\u001b[39m\"\u001b[39m\u001b[39mchamaScore\u001b[39m\u001b[39m\\\\\u001b[39;00m\u001b[39m\"\u001b[39m\u001b[39m:8.0,\u001b[39m\u001b[39m\\\\\u001b[39;00m\u001b[39m\"\u001b[39m\u001b[39mproductBrand\u001b[39m\u001b[39m\\\\\u001b[39;00m\u001b[39m\"\u001b[39m\u001b[39m:\u001b[39m\u001b[39m\\\\\u001b[39;00m\u001b[39m\"\u001b[39m\u001b[39mLIQUIGAS\u001b[39m\u001b[39m\\\\\u001b[39;00m\u001b[39m\"\u001b[39m\u001b[39m,\u001b[39m\u001b[39m\\\\\u001b[39;00m\u001b[39m\"\u001b[39m\u001b[39misWinner\u001b[39m\u001b[39m\\\\\u001b[39;00m\u001b[39m\"\u001b[39m\u001b[39m:true,\u001b[39m\u001b[39m\\\\\u001b[39;00m\u001b[39m\"\u001b[39m\u001b[39mminimumPrice\u001b[39m\u001b[39m\\\\\u001b[39;00m\u001b[39m\"\u001b[39m\u001b[39m:60.00,\u001b[39m\u001b[39m\\\\\u001b[39;00m\u001b[39m\"\u001b[39m\u001b[39mmaximumPrice\u001b[39m\u001b[39m\\\\\u001b[39;00m\u001b[39m\"\u001b[39m\u001b[39m:120.00,\u001b[39m\u001b[39m\\\\\u001b[39;00m\u001b[39m\"\u001b[39m\u001b[39mdynamicPrice\u001b[39m\u001b[39m\\\\\u001b[39;00m\u001b[39m\"\u001b[39m\u001b[39m:87.35,\u001b[39m\u001b[39m\\\\\u001b[39;00m\u001b[39m\"\u001b[39m\u001b[39mfinalPrice\u001b[39m\u001b[39m\\\\\u001b[39;00m\u001b[39m\"\u001b[39m\u001b[39m:87.35}]}]\u001b[39m\u001b[39m\"\u001b[39m\u001b[39m}\u001b[39m\u001b[39m'\u001b[39m\n\u001b[0;32m      <a href='vscode-notebook-cell://github%2B7b2276223a312c22726566223a7b2274797065223a342c226964223a224272616e636831227d7d/KylerSpradling/StrataScratch-Data-Transformation/Data-Transformation/Data_Transformation.ipynb#X42sdnNjb2RlLXZmcw%3D%3D?line=5'>6</a>\u001b[0m \u001b[39m# Parse the JSON string to a Python object\u001b[39;00m\n\u001b[1;32m----> <a href='vscode-notebook-cell://github%2B7b2276223a312c22726566223a7b2274797065223a342c226964223a224272616e636831227d7d/KylerSpradling/StrataScratch-Data-Transformation/Data-Transformation/Data_Transformation.ipynb#X42sdnNjb2RlLXZmcw%3D%3D?line=6'>7</a>\u001b[0m json_obj \u001b[39m=\u001b[39m json\u001b[39m.\u001b[39mloads(json_obj[\u001b[39m'\u001b[39;49m\u001b[39mPayload\u001b[39;49m\u001b[39m'\u001b[39;49m])\n\u001b[0;32m      <a href='vscode-notebook-cell://github%2B7b2276223a312c22726566223a7b2274797065223a342c226964223a224272616e636831227d7d/KylerSpradling/StrataScratch-Data-Transformation/Data-Transformation/Data_Transformation.ipynb#X42sdnNjb2RlLXZmcw%3D%3D?line=8'>9</a>\u001b[0m \u001b[39m# Get the list of options for each provider\u001b[39;00m\n\u001b[0;32m     <a href='vscode-notebook-cell://github%2B7b2276223a312c22726566223a7b2274797065223a342c226964223a224272616e636831227d7d/KylerSpradling/StrataScratch-Data-Transformation/Data-Transformation/Data_Transformation.ipynb#X42sdnNjb2RlLXZmcw%3D%3D?line=9'>10</a>\u001b[0m providers \u001b[39m=\u001b[39m {}\n",
      "\u001b[1;31mTypeError\u001b[0m: list indices must be integers or slices, not str"
     ]
    }
   ],
   "source": [
    "import json\n",
    "\n",
    "# Example JSON object\n",
    "json_str = '{\"Payload\": \"[{\\\\\"curationProvider\\\\\":\\\\\"ByPrice\\\\\",\\\\\"offerId\\\\\":\\\\\"149f0e53-ff85-425f-a01a-8710f06704ea\\\\\",\\\\\"dealerId\\\\\":\\\\\"6517\\\\\",\\\\\"options\\\\\":[{\\\\\"uniqueOptionId\\\\\":\\\\\"b0e296a9-0590-f0e0-8211-243a2ededb12\\\\\",\\\\\"optionId\\\\\":\\\\\"6517 || dd839e4c-9f84-45eb-9cb2-9069fecf70f2\\\\\",\\\\\"isMobileDealer\\\\\":true,\\\\\"isOpen\\\\\":true,\\\\\"eta\\\\\":\\\\\"1:00\\\\\",\\\\\"chamaScore\\\\\":8.0,\\\\\"productBrand\\\\\":\\\\\"ULTRAGAZ\\\\\",\\\\\"isWinner\\\\\":true,\\\\\"minimumPrice\\\\\":90.00,\\\\\"maximumPrice\\\\\":180.00,\\\\\"dynamicPrice\\\\\":91.90,\\\\\"finalPrice\\\\\":91.90},{\\\\\"uniqueOptionId\\\\\":\\\\\"d6562c24-0b37-5fb4-8275-65b7b8b47b87\\\\\",\\\\\"optionId\\\\\":\\\\\"6517 || 6517\\\\\",\\\\\"isMobileDealer\\\\\":false,\\\\\"isOpen\\\\\":false,\\\\\"eta\\\\\":\\\\\"0:01\\\\\",\\\\\"chamaScore\\\\\":8.0,\\\\\"productBrand\\\\\":\\\\\"ULTRAGAZ\\\\\",\\\\\"isWinner\\\\\":false,\\\\\"minimumPrice\\\\\":90.00,\\\\\"maximumPrice\\\\\":180.00,\\\\\"dynamicPrice\\\\\":91.90,\\\\\"finalPrice\\\\\":91.90,\\\\\"defeatPrimaryReason\\\\\":\\\\\"Closed\\\\\",\\\\\"defeatReasons\\\\\":[\\\\\"Closed\\\\\",\\\\\"HasDriverInOffer\\\\\"]}]},{\\\\\"curationProvider\\\\\":\\\\\"ByPrice\\\\\",\\\\\"offerId\\\\\":\\\\\"149f0e53-ff85-425f-a01a-8710f06704ea\\\\\",\\\\\"dealerId\\\\\":\\\\\"9047\\\\\",\\\\\"options\\\\\":[{\\\\\"uniqueOptionId\\\\\":\\\\\"8d0f9262-f543-d0c8-a869-33985ae3ecda\\\\\",\\\\\"optionId\\\\\":\\\\\"9047 || 9047 || ULTRAGAZ\\\\\",\\\\\"isMobileDealer\\\\\":false,\\\\\"isOpen\\\\\":false,\\\\\"eta\\\\\":\\\\\"1:00\\\\\",\\\\\"chamaScore\\\\\":9.0,\\\\\"productBrand\\\\\":\\\\\"ULTRAGAZ\\\\\",\\\\\"isWinner\\\\\":false,\\\\\"minimumPrice\\\\\":99.00,\\\\\"maximumPrice\\\\\":198.00,\\\\\"dynamicPrice\\\\\":99.95,\\\\\"finalPrice\\\\\":99.95,\\\\\"defeatPrimaryReason\\\\\":\\\\\"Closed\\\\\",\\\\\"defeatReasons\\\\\":[\\\\\"Closed\\\\\",\\\\\"HigherPrice\\\\\",\\\\\"HasDriverInOffer\\\\\"]},{\\\\\"uniqueOptionId\\\\\":\\\\\"3cd346f4-d297-7568-2e50-d43a8e2fd0a9\\\\\",\\\\\"optionId\\\\\":\\\\\"9047 || 9047 || CONSIGAZ\\\\\",\\\\\"isMobileDealer\\\\\":false,\\\\\"isOpen\\\\\":false,\\\\\"eta\\\\\":\\\\\"1:00\\\\\",\\\\\"chamaScore\\\\\":9.0,\\\\\"productBrand\\\\\":\\\\\"CONSIGAZ\\\\\",\\\\\"isWinner\\\\\":false,\\\\\"minimumPrice\\\\\":89.99,\\\\\"maximumPrice\\\\\":179.98,\\\\\"dynamicPrice\\\\\":91.89,\\\\\"finalPrice\\\\\":91.89,\\\\\"defeatPrimaryReason\\\\\":\\\\\"Closed\\\\\",\\\\\"defeatReasons\\\\\":[\\\\\"Closed\\\\\",\\\\\"HigherPrice\\\\\",\\\\\"HigherETA\\\\\"]},{\\\\\"uniqueOptionId\\\\\":\\\\\"577e4bbd-f49d-ac23-56a6-e70072a05229\\\\\",\\\\\"optionId\\\\\":\\\\\"9047 || 9047 || LIQUIGAS\\\\\",\\\\\"isMobileDealer\\\\\":false,\\\\\"isOpen\\\\\":false,\\\\\"eta\\\\\":\\\\\"1:00\\\\\",\\\\\"chamaScore\\\\\":9.0,\\\\\"productBrand\\\\\":\\\\\"LIQUIGAS\\\\\",\\\\\"isWinner\\\\\":false,\\\\\"minimumPrice\\\\\":92.00,\\\\\"maximumPrice\\\\\":184.00,\\\\\"dynamicPrice\\\\\":93.90,\\\\\"finalPrice\\\\\":93.90,\\\\\"defeatPrimaryReason\\\\\":\\\\\"Closed\\\\\",\\\\\"defeatReasons\\\\\":[\\\\\"Closed\\\\\",\\\\\"HigherPrice\\\\\",\\\\\"HigherETA\\\\\"]},{\\\\\"uniqueOptionId\\\\\":\\\\\"f9b876ab-2590-952f-d69d-5b352ec251f3\\\\\",\\\\\"optionId\\\\\":\\\\\"9047 || 9047 || NACIONALGAS\\\\\",\\\\\"isMobileDealer\\\\\":false,\\\\\"isOpen\\\\\":false,\\\\\"eta\\\\\":\\\\\"1:00\\\\\",\\\\\"chamaScore\\\\\":9.0,\\\\\"productBrand\\\\\":\\\\\"NACIONALGAS\\\\\",\\\\\"isWinner\\\\\":true,\\\\\"minimumPrice\\\\\":88.90,\\\\\"maximumPrice\\\\\":177.80,\\\\\"dynamicPrice\\\\\":90.80,\\\\\"finalPrice\\\\\":90.80}]},{\\\\\"curationProvider\\\\\":\\\\\"ByPrice\\\\\",\\\\\"offerId\\\\\":\\\\\"149f0e53-ff85-425f-a01a-8710f06704ea\\\\\",\\\\\"dealerId\\\\\":\\\\\"8330\\\\\",\\\\\"options\\\\\":[{\\\\\"uniqueOptionId\\\\\":\\\\\"151e59ac-761a-96f5-d2b9-882037a9fd28\\\\\",\\\\\"optionId\\\\\":\\\\\"8330 || 8330 || CONSIGAZ\\\\\",\\\\\"isMobileDealer\\\\\":false,\\\\\"isOpen\\\\\":true,\\\\\"eta\\\\\":\\\\\"0:01\\\\\",\\\\\"chamaScore\\\\\":8.0,\\\\\"productBrand\\\\\":\\\\\"CONSIGAZ\\\\\",\\\\\"isWinner\\\\\":true,\\\\\"minimumPrice\\\\\":80.00,\\\\\"maximumPrice\\\\\":160.00,\\\\\"dynamicPrice\\\\\":87.35,\\\\\"finalPrice\\\\\":87.35}]},{\\\\\"curationProvider\\\\\":\\\\\"ByPrice\\\\\",\\\\\"offerId\\\\\":\\\\\"149f0e53-ff85-425f-a01a-8710f06704ea\\\\\",\\\\\"dealerId\\\\\":\\\\\"8835\\\\\",\\\\\"options\\\\\":[{\\\\\"uniqueOptionId\\\\\":\\\\\"b7a7b6d1-4dae-7392-5aaf-f3369c29db1d\\\\\",\\\\\"optionId\\\\\":\\\\\"8835 || 8835 || LIQUIGAS\\\\\",\\\\\"isMobileDealer\\\\\":false,\\\\\"isOpen\\\\\":false,\\\\\"eta\\\\\":\\\\\"0:01\\\\\",\\\\\"chamaScore\\\\\":8.0,\\\\\"productBrand\\\\\":\\\\\"LIQUIGAS\\\\\",\\\\\"isWinner\\\\\":true,\\\\\"minimumPrice\\\\\":60.00,\\\\\"maximumPrice\\\\\":120.00,\\\\\"dynamicPrice\\\\\":87.35,\\\\\"finalPrice\\\\\":87.35}]}]\"}'\n",
    "\n",
    "# Parse the JSON string to a Python object\n",
    "json_obj = json.loads(json_obj['Payload'])\n",
    "\n",
    "# Get the list of options for each provider\n",
    "providers = {}\n",
    "for item in json_obj:\n",
    "    provider = item['curationProvider']\n",
    "    options = item['options']\n",
    "    providers[provider] = options\n",
    "\n",
    "# Print the options for each provider\n",
    "for provider, options in providers.items():\n",
    "    print(f\"Options for provider '{provider}':\")\n",
    "    for option in options:\n",
    "        print(f\"  Option ID: {option['optionId']}\")\n",
    "        print(f\"  Product brand: {option['productBrand']}\")\n",
    "        print(f\"  Minimum price: {option['minimumPrice']}\")\n",
    "        print(f\"  Maximum price: {option['maximumPrice']}\")\n",
    "        print(f\"  Final price: {option['finalPrice']}\")\n",
    "        print()  # Print an empty line for readability\n",
    "for item in json_obj['Payload']:\n",
    "    provider = item['curationProvider']\n",
    "    options = item['options']\n",
    "    providers[provider] = options"
   ]
  }
 ],
 "metadata": {
  "kernelspec": {
   "display_name": "base",
   "language": "python",
   "name": "python3"
  },
  "language_info": {
   "codemirror_mode": {
    "name": "ipython",
    "version": 3
   },
   "file_extension": ".py",
   "mimetype": "text/x-python",
   "name": "python",
   "nbconvert_exporter": "python",
   "pygments_lexer": "ipython3",
   "version": "3.9.12"
  }
 },
 "nbformat": 4,
 "nbformat_minor": 2
}
