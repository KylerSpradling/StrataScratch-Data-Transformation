{
 "cells": [
  {
   "cell_type": "code",
   "execution_count": 1,
   "metadata": {},
   "outputs": [],
   "source": [
    "import pandas as pd\n",
    "import json"
   ]
  },
  {
   "cell_type": "code",
   "execution_count": 2,
   "metadata": {},
   "outputs": [],
   "source": [
    "# Read in the json file\n",
    "df = pd.read_json(\"C:/Users/kyler/OneDrive/Python Projects/StrataScratch/Data-Transformation/datasets/case.json\")"
   ]
  },
  {
   "cell_type": "code",
   "execution_count": 3,
   "metadata": {},
   "outputs": [
    {
     "data": {
      "text/html": [
       "<div>\n",
       "<style scoped>\n",
       "    .dataframe tbody tr th:only-of-type {\n",
       "        vertical-align: middle;\n",
       "    }\n",
       "\n",
       "    .dataframe tbody tr th {\n",
       "        vertical-align: top;\n",
       "    }\n",
       "\n",
       "    .dataframe thead th {\n",
       "        text-align: right;\n",
       "    }\n",
       "</style>\n",
       "<table border=\"1\" class=\"dataframe\">\n",
       "  <thead>\n",
       "    <tr style=\"text-align: right;\">\n",
       "      <th></th>\n",
       "      <th>EnqueuedTimeUtc</th>\n",
       "      <th>EventName</th>\n",
       "      <th>Payload</th>\n",
       "    </tr>\n",
       "  </thead>\n",
       "  <tbody>\n",
       "    <tr>\n",
       "      <th>9</th>\n",
       "      <td>2021-09-05 09:18:04 UTC</td>\n",
       "      <td>DynamicPrice_Result</td>\n",
       "      <td>{\"provider\":\"ApplyDynamicPriceRange\",\"offerId\"...</td>\n",
       "    </tr>\n",
       "    <tr>\n",
       "      <th>33</th>\n",
       "      <td>2021-09-05 09:02:41 UTC</td>\n",
       "      <td>DynamicPrice_Result</td>\n",
       "      <td>{\"provider\":\"ApplyDynamicPriceRange\",\"offerId\"...</td>\n",
       "    </tr>\n",
       "    <tr>\n",
       "      <th>0</th>\n",
       "      <td>2021-09-05 08:04:08 UTC</td>\n",
       "      <td>DynamicPrice_Result</td>\n",
       "      <td>{\"provider\":\"ApplyDynamicPriceRange\",\"offerId\"...</td>\n",
       "    </tr>\n",
       "    <tr>\n",
       "      <th>17</th>\n",
       "      <td>2021-08-25 09:02:29 UTC</td>\n",
       "      <td>CurateOffer_Result</td>\n",
       "      <td>[{\"curationProvider\":\"ByPrice\",\"offerId\":\"0a06...</td>\n",
       "    </tr>\n",
       "    <tr>\n",
       "      <th>16</th>\n",
       "      <td>2021-09-05 08:03:00 UTC</td>\n",
       "      <td>DynamicPrice_Result</td>\n",
       "      <td>{\"provider\":\"ApplyDynamicPriceRange\",\"offerId\"...</td>\n",
       "    </tr>\n",
       "    <tr>\n",
       "      <th>7</th>\n",
       "      <td>2021-09-05 04:03:08 UTC</td>\n",
       "      <td>DynamicPrice_Result</td>\n",
       "      <td>{\"provider\":\"ApplyDynamicPriceRange\",\"offerId\"...</td>\n",
       "    </tr>\n",
       "    <tr>\n",
       "      <th>5</th>\n",
       "      <td>2021-08-18 11:44:00 UTC</td>\n",
       "      <td>DynamicPrice_Result</td>\n",
       "      <td>{\"provider\":\"ApplyDynamicPricePerOption\",\"offe...</td>\n",
       "    </tr>\n",
       "    <tr>\n",
       "      <th>27</th>\n",
       "      <td>2021-09-05 09:02:17 UTC</td>\n",
       "      <td>DynamicPrice_Result</td>\n",
       "      <td>{\"provider\":\"ApplyDynamicPriceRange\",\"offerId\"...</td>\n",
       "    </tr>\n",
       "    <tr>\n",
       "      <th>36</th>\n",
       "      <td>2021-09-05 09:02:49 UTC</td>\n",
       "      <td>DynamicPrice_Result</td>\n",
       "      <td>{\"provider\":\"ApplyDynamicPriceRange\",\"offerId\"...</td>\n",
       "    </tr>\n",
       "    <tr>\n",
       "      <th>20</th>\n",
       "      <td>2021-08-18 11:43:57 UTC</td>\n",
       "      <td>DynamicPrice_Result</td>\n",
       "      <td>{\"provider\":\"ApplyDynamicPricePerOption\",\"offe...</td>\n",
       "    </tr>\n",
       "  </tbody>\n",
       "</table>\n",
       "</div>"
      ],
      "text/plain": [
       "            EnqueuedTimeUtc            EventName  \\\n",
       "9   2021-09-05 09:18:04 UTC  DynamicPrice_Result   \n",
       "33  2021-09-05 09:02:41 UTC  DynamicPrice_Result   \n",
       "0   2021-09-05 08:04:08 UTC  DynamicPrice_Result   \n",
       "17  2021-08-25 09:02:29 UTC   CurateOffer_Result   \n",
       "16  2021-09-05 08:03:00 UTC  DynamicPrice_Result   \n",
       "7   2021-09-05 04:03:08 UTC  DynamicPrice_Result   \n",
       "5   2021-08-18 11:44:00 UTC  DynamicPrice_Result   \n",
       "27  2021-09-05 09:02:17 UTC  DynamicPrice_Result   \n",
       "36  2021-09-05 09:02:49 UTC  DynamicPrice_Result   \n",
       "20  2021-08-18 11:43:57 UTC  DynamicPrice_Result   \n",
       "\n",
       "                                              Payload  \n",
       "9   {\"provider\":\"ApplyDynamicPriceRange\",\"offerId\"...  \n",
       "33  {\"provider\":\"ApplyDynamicPriceRange\",\"offerId\"...  \n",
       "0   {\"provider\":\"ApplyDynamicPriceRange\",\"offerId\"...  \n",
       "17  [{\"curationProvider\":\"ByPrice\",\"offerId\":\"0a06...  \n",
       "16  {\"provider\":\"ApplyDynamicPriceRange\",\"offerId\"...  \n",
       "7   {\"provider\":\"ApplyDynamicPriceRange\",\"offerId\"...  \n",
       "5   {\"provider\":\"ApplyDynamicPricePerOption\",\"offe...  \n",
       "27  {\"provider\":\"ApplyDynamicPriceRange\",\"offerId\"...  \n",
       "36  {\"provider\":\"ApplyDynamicPriceRange\",\"offerId\"...  \n",
       "20  {\"provider\":\"ApplyDynamicPricePerOption\",\"offe...  "
      ]
     },
     "execution_count": 3,
     "metadata": {},
     "output_type": "execute_result"
    }
   ],
   "source": [
    "#random sample \n",
    "df.sample(n=10, random_state= 45)"
   ]
  },
  {
   "cell_type": "markdown",
   "metadata": {},
   "source": [
    "# Date/Time Format"
   ]
  },
  {
   "cell_type": "code",
   "execution_count": 4,
   "metadata": {},
   "outputs": [],
   "source": [
    "# Changing the timezone & formatting the date\n",
    "# Replaced the EnqueuedTimeUtc column with the EnqueuedTimeSP column\n",
    "# all saved in the original dataframe\n",
    "df['EnqueuedTimeSP'] = pd.to_datetime(df['EnqueuedTimeUtc']).dt.tz_convert(tz='Brazil/East').dt.strftime('%d/%m/%Y %H:%M:%S')\n",
    "df.drop(columns=['EnqueuedTimeUtc'],inplace=True)"
   ]
  },
  {
   "cell_type": "markdown",
   "metadata": {},
   "source": [
    "### Creating 'CurateOffer_Options' CSV"
   ]
  },
  {
   "cell_type": "markdown",
   "metadata": {},
   "source": [
    "- CurationProvider: in quotes\n",
    "- OfferId: in quotes\n",
    "- DealerId: in quotes\n",
    "- UniqueOptionId: in quotes\n",
    "- OptionId: in quotes\n",
    "- IsMobileDealer: without quotes\n",
    "- IsOpen: without quotes\n",
    "- Eta: in quotes\n",
    "- ChamaScore: without quotes\n",
    "- ProductBrand: in quotes\n",
    "- IsWinner: without quotes\n",
    "- MinimumPrice: without quotes\n",
    "- MaximumPrice: without quotes\n",
    "- DynamicPrice: without quotes\n",
    "- FinalPrice: without quotes\n",
    "- DefeatPrimaryReason: in quotes\n",
    "- DefeatReasons: in quotes\n",
    "- EnqueuedTimeSP: DD/MM/YYYY (converted to Brasilian timezone - UTC-3)"
   ]
  },
  {
   "cell_type": "code",
   "execution_count": 5,
   "metadata": {},
   "outputs": [
    {
     "data": {
      "text/html": [
       "<div>\n",
       "<style scoped>\n",
       "    .dataframe tbody tr th:only-of-type {\n",
       "        vertical-align: middle;\n",
       "    }\n",
       "\n",
       "    .dataframe tbody tr th {\n",
       "        vertical-align: top;\n",
       "    }\n",
       "\n",
       "    .dataframe thead th {\n",
       "        text-align: right;\n",
       "    }\n",
       "</style>\n",
       "<table border=\"1\" class=\"dataframe\">\n",
       "  <thead>\n",
       "    <tr style=\"text-align: right;\">\n",
       "      <th></th>\n",
       "      <th>EventName</th>\n",
       "      <th>Payload</th>\n",
       "      <th>EnqueuedTimeSP</th>\n",
       "    </tr>\n",
       "  </thead>\n",
       "  <tbody>\n",
       "    <tr>\n",
       "      <th>3</th>\n",
       "      <td>CurateOffer_Result</td>\n",
       "      <td>[{\"curationProvider\":\"ByPrice\",\"offerId\":\"149f...</td>\n",
       "      <td>25/08/2021 02:02:55</td>\n",
       "    </tr>\n",
       "    <tr>\n",
       "      <th>13</th>\n",
       "      <td>CurateOffer_Result</td>\n",
       "      <td>[{\"curationProvider\":\"ByPrice\",\"offerId\":\"c99a...</td>\n",
       "      <td>25/08/2021 06:03:29</td>\n",
       "    </tr>\n",
       "    <tr>\n",
       "      <th>15</th>\n",
       "      <td>CurateOffer_Result</td>\n",
       "      <td>[{\"curationProvider\":\"ByPrice\",\"offerId\":\"d668...</td>\n",
       "      <td>25/08/2021 02:02:18</td>\n",
       "    </tr>\n",
       "    <tr>\n",
       "      <th>17</th>\n",
       "      <td>CurateOffer_Result</td>\n",
       "      <td>[{\"curationProvider\":\"ByPrice\",\"offerId\":\"0a06...</td>\n",
       "      <td>25/08/2021 06:02:29</td>\n",
       "    </tr>\n",
       "    <tr>\n",
       "      <th>35</th>\n",
       "      <td>CurateOffer_Result</td>\n",
       "      <td>[{\"curationProvider\":\"ByPrice\",\"offerId\":\"135d...</td>\n",
       "      <td>25/08/2021 06:03:14</td>\n",
       "    </tr>\n",
       "  </tbody>\n",
       "</table>\n",
       "</div>"
      ],
      "text/plain": [
       "             EventName                                            Payload  \\\n",
       "3   CurateOffer_Result  [{\"curationProvider\":\"ByPrice\",\"offerId\":\"149f...   \n",
       "13  CurateOffer_Result  [{\"curationProvider\":\"ByPrice\",\"offerId\":\"c99a...   \n",
       "15  CurateOffer_Result  [{\"curationProvider\":\"ByPrice\",\"offerId\":\"d668...   \n",
       "17  CurateOffer_Result  [{\"curationProvider\":\"ByPrice\",\"offerId\":\"0a06...   \n",
       "35  CurateOffer_Result  [{\"curationProvider\":\"ByPrice\",\"offerId\":\"135d...   \n",
       "\n",
       "         EnqueuedTimeSP  \n",
       "3   25/08/2021 02:02:55  \n",
       "13  25/08/2021 06:03:29  \n",
       "15  25/08/2021 02:02:18  \n",
       "17  25/08/2021 06:02:29  \n",
       "35  25/08/2021 06:03:14  "
      ]
     },
     "execution_count": 5,
     "metadata": {},
     "output_type": "execute_result"
    }
   ],
   "source": [
    "Curation = df[df['EventName'] == 'CurateOffer_Result']\n",
    "Curation\n",
    "# load into python object\n",
    "# load payload in its own object "
   ]
  }
 ],
 "metadata": {
  "kernelspec": {
   "display_name": "base",
   "language": "python",
   "name": "python3"
  },
  "language_info": {
   "codemirror_mode": {
    "name": "ipython",
    "version": 3
   },
   "file_extension": ".py",
   "mimetype": "text/x-python",
   "name": "python",
   "nbconvert_exporter": "python",
   "pygments_lexer": "ipython3",
   "version": "3.9.12"
  }
 },
 "nbformat": 4,
 "nbformat_minor": 2
}
